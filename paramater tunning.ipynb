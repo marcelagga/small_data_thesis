{
 "cells": [
  {
   "cell_type": "code",
   "execution_count": 1,
   "id": "1f3c6d99",
   "metadata": {},
   "outputs": [],
   "source": [
    "from load_data import (load_adult_dataset, load_beans_dataset,\n",
    "                       load_digits_dataset, load_chess_dataset,\n",
    "                       load_diabetes_dataset, load_sensorless_dataset)\n",
    "\n",
    "from model_training import get_sample, split_train_test, compute_accuracy, compute_all_models_results\n",
    "\n",
    "from plots import bar_plot\n",
    "import numpy as np\n",
    "\n",
    "from sklearn.tree import DecisionTreeClassifier\n",
    "from sklearn.ensemble import RandomForestClassifier\n",
    "from deepforest import CascadeForestClassifier\n",
    "from sklearn import svm\n",
    "\n",
    "from tensorflow.keras.models import Sequential\n",
    "from tensorflow.keras.layers import Dense, Dropout, InputLayer\n",
    "import tensorflow as tf\n",
    "from sklearn.preprocessing import LabelEncoder, MinMaxScaler\n",
    "\n",
    "%load_ext autoreload\n",
    "%autoreload"
   ]
  },
  {
   "cell_type": "code",
   "execution_count": 2,
   "id": "9fab260a",
   "metadata": {},
   "outputs": [],
   "source": [
    "def print_accuracy(x_train, y_train, x_test, y_test, clf, model):\n",
    "    print(f'Model {model}')\n",
    "    print('Accuracy train: ' + str(compute_accuracy(x_train, y_train, clf, model)['accuracy']))\n",
    "    print('Accuracy test : ' + str(compute_accuracy(x_test, y_test, clf, model)['accuracy']))"
   ]
  },
  {
   "cell_type": "code",
   "execution_count": 3,
   "id": "787eb91f",
   "metadata": {},
   "outputs": [],
   "source": [
    "df_adult = load_adult_dataset() #(32561, 38)\n",
    "df_beans = load_beans_dataset() #(13611, 17)\n",
    "df_digits = load_digits_dataset() #(1797, 65)\n",
    "df_chess = load_chess_dataset() #(3196, 37)\n",
    "df_diabetes = load_diabetes_dataset() #(1151, 20)\n",
    "df_sensorless = load_sensorless_dataset() #(58509, 49)"
   ]
  },
  {
   "cell_type": "markdown",
   "id": "fd6cc9e0",
   "metadata": {},
   "source": [
    "# Adult Dataset"
   ]
  },
  {
   "cell_type": "code",
   "execution_count": 4,
   "id": "cfe3f8d3",
   "metadata": {},
   "outputs": [],
   "source": [
    "df_adult_sample = get_sample(df_adult,1000,0)\n",
    "x_train, x_test, y_train, y_test  = split_train_test(df_adult_sample)\n",
    "scaler = MinMaxScaler()\n",
    "x_train = scaler.fit_transform(x_train)\n",
    "x_test = scaler.transform(x_test)"
   ]
  },
  {
   "cell_type": "markdown",
   "id": "c4f5852e",
   "metadata": {},
   "source": [
    "## Default params"
   ]
  },
  {
   "cell_type": "code",
   "execution_count": 5,
   "id": "e44431ee",
   "metadata": {},
   "outputs": [
    {
     "name": "stdout",
     "output_type": "stream",
     "text": [
      "Model DF\n",
      "Accuracy train: 100.0\n",
      "Accuracy test : 84.0\n"
     ]
    }
   ],
   "source": [
    "clf_deep_forest_default = CascadeForestClassifier(random_state = 42,verbose=0)\n",
    "clf_deep_forest_default.fit(x_train, y_train)\n",
    "print_accuracy(x_train, y_train, x_test, y_test, clf_deep_forest_default, 'DF')"
   ]
  },
  {
   "cell_type": "code",
   "execution_count": 6,
   "id": "1cbb992b",
   "metadata": {},
   "outputs": [
    {
     "name": "stdout",
     "output_type": "stream",
     "text": [
      "Model RF\n",
      "Accuracy train: 100.0\n",
      "Accuracy test : 84.0\n"
     ]
    }
   ],
   "source": [
    "clf_forest_default = RandomForestClassifier(random_state = 42)\n",
    "clf_forest_default.fit(x_train, y_train)\n",
    "print_accuracy(x_train, y_train, x_test, y_test, clf_forest_default, 'RF')"
   ]
  },
  {
   "cell_type": "code",
   "execution_count": 7,
   "id": "78261eb8",
   "metadata": {},
   "outputs": [
    {
     "name": "stdout",
     "output_type": "stream",
     "text": [
      "Model DT\n",
      "Accuracy train: 100.0\n",
      "Accuracy test : 82.0\n"
     ]
    }
   ],
   "source": [
    "clf_tree_default = DecisionTreeClassifier(random_state = 42)\n",
    "clf_tree_default.fit(x_train, y_train)\n",
    "print_accuracy(x_train, y_train, x_test, y_test, clf_tree_default, 'DT')"
   ]
  },
  {
   "cell_type": "code",
   "execution_count": 8,
   "id": "21176736",
   "metadata": {},
   "outputs": [
    {
     "name": "stdout",
     "output_type": "stream",
     "text": [
      "Model SVM\n",
      "Accuracy train: 81.0\n",
      "Accuracy test : 83.0\n"
     ]
    }
   ],
   "source": [
    "clf_svm_default = svm.SVC(random_state = 42)\n",
    "clf_svm_default.fit(x_train, y_train)\n",
    "print_accuracy(x_train, y_train, x_test, y_test, clf_svm_default, 'SVM')"
   ]
  },
  {
   "cell_type": "code",
   "execution_count": 9,
   "id": "0d82d77f",
   "metadata": {},
   "outputs": [
    {
     "name": "stdout",
     "output_type": "stream",
     "text": [
      "Model DNN\n",
      "Accuracy train: 93.0\n",
      "Accuracy test : 80.0\n"
     ]
    }
   ],
   "source": [
    "n_features = x_train.shape[1]\n",
    "dropout = 0.1\n",
    "nodes = 100\n",
    "epochs = 200\n",
    "learning_rate = 0.001\n",
    "sequential_list = [InputLayer(n_features),\n",
    "                       Dense(nodes, activation=\"elu\", kernel_initializer=tf.keras.initializers.HeNormal()),\n",
    "                       Dropout(dropout),\n",
    "                       Dense(nodes, activation=\"elu\", kernel_initializer=tf.keras.initializers.HeNormal()),\n",
    "                       Dropout(dropout),\n",
    "                       Dense(nodes, activation=\"elu\", kernel_initializer=tf.keras.initializers.HeNormal()),\n",
    "                       Dropout(dropout),\n",
    "                       Dense(nodes, activation=\"elu\", kernel_initializer=tf.keras.initializers.HeNormal()),\n",
    "                       Dropout(dropout),\n",
    "                       Dense(nodes, activation=\"elu\", kernel_initializer=tf.keras.initializers.HeNormal()),\n",
    "                       Dropout(dropout),\n",
    "                       Dense(nodes, activation=\"elu\", kernel_initializer=tf.keras.initializers.HeNormal()),\n",
    "                       Dropout(dropout),\n",
    "                       Dense(nodes, activation=\"elu\", kernel_initializer=tf.keras.initializers.HeNormal()),\n",
    "                       Dropout(dropout),\n",
    "                       Dense(nodes, activation=\"elu\", kernel_initializer=tf.keras.initializers.HeNormal()),\n",
    "                       Dropout(dropout),\n",
    "                       Dense(nodes, activation=\"elu\", kernel_initializer=tf.keras.initializers.HeNormal()),\n",
    "                       Dropout(dropout),\n",
    "                       Dense(nodes, activation=\"elu\", kernel_initializer=tf.keras.initializers.HeNormal())\n",
    "                       ]\n",
    "\n",
    "sequential_list.append(Dense(1, activation=\"sigmoid\"))\n",
    "loss = 'binary_crossentropy'\n",
    "clf_nn_default = Sequential(sequential_list)\n",
    "clf_nn_default.compile(loss=loss, optimizer=tf.keras.optimizers.Adam(learning_rate=learning_rate),metrics=['accuracy'])\n",
    "clf_nn_default.fit(x_train, y_train, epochs=epochs, batch_size=32, verbose=0)\n",
    "print_accuracy(x_train, y_train, x_test, y_test, clf_nn_default, 'DNN')"
   ]
  },
  {
   "cell_type": "markdown",
   "id": "c3be455c",
   "metadata": {},
   "source": [
    "## Reducing overfitting"
   ]
  },
  {
   "cell_type": "code",
   "execution_count": 10,
   "id": "69b6ac47",
   "metadata": {},
   "outputs": [
    {
     "name": "stdout",
     "output_type": "stream",
     "text": [
      "Model DF\n",
      "Accuracy train: 97.0\n",
      "Accuracy test : 85.0\n"
     ]
    }
   ],
   "source": [
    "clf_deep_forest = CascadeForestClassifier(random_state=42, max_depth=15, \n",
    "                                          n_estimators = 2, verbose=0)\n",
    "clf_deep_forest.fit(x_train, y_train)\n",
    "print_accuracy(x_train, y_train, x_test, y_test, clf_deep_forest, 'DF')\n",
    "# Accuracy train: 97.0\n",
    "# Accuracy test : 85.0"
   ]
  },
  {
   "cell_type": "code",
   "execution_count": 11,
   "id": "393f0399",
   "metadata": {},
   "outputs": [
    {
     "name": "stdout",
     "output_type": "stream",
     "text": [
      "Model RF\n",
      "Accuracy train: 93.0\n",
      "Accuracy test : 85.0\n"
     ]
    }
   ],
   "source": [
    "clf_forest = RandomForestClassifier(random_state = 42,\n",
    "                                    max_depth = 10)\n",
    "clf_forest.fit(x_train, y_train)\n",
    "\n",
    "print_accuracy(x_train, y_train, x_test, y_test, clf_forest, 'RF')\n",
    "# Accuracy train: 93.0\n",
    "# Accuracy test : 85.0"
   ]
  },
  {
   "cell_type": "code",
   "execution_count": 12,
   "id": "1ef9b9ab",
   "metadata": {},
   "outputs": [
    {
     "name": "stdout",
     "output_type": "stream",
     "text": [
      "Model DT\n",
      "Accuracy train: 86.0\n",
      "Accuracy test : 85.0\n"
     ]
    }
   ],
   "source": [
    "clf_tree = DecisionTreeClassifier(random_state = 42, max_depth = 5, criterion = 'entropy')\n",
    "clf_tree.fit(x_train, y_train)\n",
    "\n",
    "print_accuracy(x_train, y_train, x_test, y_test, clf_tree, 'DT')\n",
    "# Accuracy train: 86.0\n",
    "# Accuracy test : 85.0"
   ]
  },
  {
   "cell_type": "code",
   "execution_count": 38,
   "id": "50d5db6d",
   "metadata": {},
   "outputs": [
    {
     "name": "stdout",
     "output_type": "stream",
     "text": [
      "Model SVM\n",
      "Accuracy train: 85.0\n",
      "Accuracy test : 82.0\n"
     ]
    }
   ],
   "source": [
    "clf_svm = svm.SVC(C = 10, random_state = 42)\n",
    "\n",
    "clf_svm.fit(x_train, y_train)\n",
    "print_accuracy(x_train, y_train, x_test, y_test, clf_svm, 'SVM')\n",
    "# Accuracy train: 80.0\n",
    "# Accuracy test : 83.0"
   ]
  },
  {
   "cell_type": "code",
   "execution_count": 50,
   "id": "48137dd9",
   "metadata": {},
   "outputs": [
    {
     "name": "stdout",
     "output_type": "stream",
     "text": [
      "Model DNN\n",
      "Accuracy train: 94.0\n",
      "Accuracy test : 82.0\n"
     ]
    }
   ],
   "source": [
    "n_features = x_train.shape[1]\n",
    "dropout = 0.15\n",
    "nodes = 150\n",
    "epochs = 300\n",
    "learning_rate = 0.001\n",
    "activation = \"elu\"\n",
    "sequential_list = [InputLayer(n_features),\n",
    "                       Dense(nodes, activation=activation, \n",
    "                             kernel_initializer=tf.keras.initializers.HeNormal()),\n",
    "                       Dropout(dropout),\n",
    "                       Dense(nodes, activation=activation, kernel_initializer=tf.keras.initializers.HeNormal()),\n",
    "            \n",
    "                   Dropout(dropout),\n",
    "                       Dense(nodes, activation=activation, kernel_initializer=tf.keras.initializers.HeNormal()),\n",
    "                       Dropout(dropout),\n",
    "                       Dense(nodes, activation=activation, kernel_initializer=tf.keras.initializers.HeNormal()),\n",
    "                       Dropout(dropout),\n",
    "                       Dense(nodes, activation=activation, kernel_initializer=tf.keras.initializers.HeNormal()),\n",
    "                       Dropout(dropout),\n",
    "                       Dense(nodes, activation=activation, kernel_initializer=tf.keras.initializers.HeNormal()),\n",
    "                       Dropout(dropout),\n",
    "                       Dense(nodes, activation=activation, kernel_initializer=tf.keras.initializers.HeNormal()),\n",
    "                       Dropout(dropout),\n",
    "                       Dense(nodes, activation=activation, kernel_initializer=tf.keras.initializers.HeNormal()),\n",
    "                       Dropout(dropout),\n",
    "                       Dense(nodes, activation=activation, kernel_initializer=tf.keras.initializers.HeNormal()),\n",
    "                       Dropout(dropout),\n",
    "                       Dense(nodes, activation=activation, kernel_initializer=tf.keras.initializers.HeNormal())\n",
    "                       ]\n",
    "\n",
    "sequential_list.append(Dense(1, activation=\"sigmoid\"))\n",
    "loss = 'binary_crossentropy'\n",
    "clf_nn_default = Sequential(sequential_list)\n",
    "clf_nn_default.compile(loss=loss, optimizer=tf.keras.optimizers.Adam(learning_rate=learning_rate),metrics=['accuracy'])\n",
    "clf_nn_default.fit(x_train, y_train, epochs=epochs, batch_size=32, verbose=0)\n",
    "print_accuracy(x_train, y_train, x_test, y_test, clf_nn_default, 'DNN')"
   ]
  },
  {
   "cell_type": "markdown",
   "id": "eccea424",
   "metadata": {},
   "source": [
    "# Beans Dataset"
   ]
  },
  {
   "cell_type": "code",
   "execution_count": 51,
   "id": "840c0e8c",
   "metadata": {},
   "outputs": [],
   "source": [
    "df_beans_sample = get_sample(df_beans,1000,10)\n",
    "x_train, x_test, y_train, y_test  = split_train_test(df_beans_sample)\n",
    "scaler = MinMaxScaler()\n",
    "x_train = scaler.fit_transform(x_train)\n",
    "x_test = scaler.transform(x_test)"
   ]
  },
  {
   "cell_type": "markdown",
   "id": "62299b4e",
   "metadata": {},
   "source": [
    "## Default params"
   ]
  },
  {
   "cell_type": "code",
   "execution_count": 52,
   "id": "0fb9a77b",
   "metadata": {},
   "outputs": [
    {
     "name": "stdout",
     "output_type": "stream",
     "text": [
      "Model DF\n",
      "Accuracy train: 100.0\n",
      "Accuracy test : 90.0\n"
     ]
    }
   ],
   "source": [
    "clf_deep_forest_default = CascadeForestClassifier(random_state = 42,verbose=0)\n",
    "clf_deep_forest_default.fit(x_train, y_train)\n",
    "print_accuracy(x_train, y_train, x_test, y_test, clf_deep_forest_default, 'DF')"
   ]
  },
  {
   "cell_type": "code",
   "execution_count": 53,
   "id": "46cc82a5",
   "metadata": {},
   "outputs": [
    {
     "name": "stdout",
     "output_type": "stream",
     "text": [
      "Model RF\n",
      "Accuracy train: 100.0\n",
      "Accuracy test : 89.0\n"
     ]
    }
   ],
   "source": [
    "clf_forest_default = RandomForestClassifier(random_state = 42)\n",
    "clf_forest_default.fit(x_train, y_train)\n",
    "print_accuracy(x_train, y_train, x_test, y_test, clf_forest_default, 'RF')"
   ]
  },
  {
   "cell_type": "code",
   "execution_count": 54,
   "id": "668d4b56",
   "metadata": {},
   "outputs": [
    {
     "name": "stdout",
     "output_type": "stream",
     "text": [
      "Model DT\n",
      "Accuracy train: 100.0\n",
      "Accuracy test : 86.0\n"
     ]
    }
   ],
   "source": [
    "clf_tree_default = DecisionTreeClassifier(random_state = 42)\n",
    "clf_tree_default.fit(x_train, y_train)\n",
    "print_accuracy(x_train, y_train, x_test, y_test, clf_tree_default, 'DT')"
   ]
  },
  {
   "cell_type": "code",
   "execution_count": 55,
   "id": "e486a8ab",
   "metadata": {},
   "outputs": [
    {
     "name": "stdout",
     "output_type": "stream",
     "text": [
      "Model SVM\n",
      "Accuracy train: 93.0\n",
      "Accuracy test : 90.0\n"
     ]
    }
   ],
   "source": [
    "clf_svm_default = svm.SVC(random_state = 42)\n",
    "clf_svm_default.fit(x_train, y_train)\n",
    "print_accuracy(x_train, y_train, x_test, y_test, clf_svm_default, 'SVM')"
   ]
  },
  {
   "cell_type": "code",
   "execution_count": 56,
   "id": "dbc35a31",
   "metadata": {},
   "outputs": [
    {
     "name": "stdout",
     "output_type": "stream",
     "text": [
      "Model DNN\n",
      "Accuracy train: 97.0\n",
      "Accuracy test : 91.0\n"
     ]
    }
   ],
   "source": [
    "n_classes = len(np.unique(y_train))\n",
    "n_features = x_train.shape[1]\n",
    "dropout = 0.1\n",
    "nodes = 100\n",
    "epochs = 200\n",
    "learning_rate = 0.001\n",
    "\n",
    "sequential_list = [InputLayer(n_features),\n",
    "                       Dense(nodes, activation=\"elu\", kernel_initializer=tf.keras.initializers.HeNormal()),\n",
    "                       Dropout(dropout),\n",
    "                       Dense(nodes, activation=\"elu\", kernel_initializer=tf.keras.initializers.HeNormal()),\n",
    "                       Dropout(dropout),\n",
    "                       Dense(nodes, activation=\"elu\", kernel_initializer=tf.keras.initializers.HeNormal()),\n",
    "                       Dropout(dropout),\n",
    "                       Dense(nodes, activation=\"elu\", kernel_initializer=tf.keras.initializers.HeNormal()),\n",
    "                       Dropout(dropout),\n",
    "                       Dense(nodes, activation=\"elu\", kernel_initializer=tf.keras.initializers.HeNormal()),\n",
    "                       Dropout(dropout),\n",
    "                       Dense(nodes, activation=\"elu\", kernel_initializer=tf.keras.initializers.HeNormal()),\n",
    "                       Dropout(dropout),\n",
    "                       Dense(nodes, activation=\"elu\", kernel_initializer=tf.keras.initializers.HeNormal()),\n",
    "                       Dropout(dropout),\n",
    "                       Dense(nodes, activation=\"elu\", kernel_initializer=tf.keras.initializers.HeNormal()),\n",
    "                       Dropout(dropout),\n",
    "                       Dense(nodes, activation=\"elu\", kernel_initializer=tf.keras.initializers.HeNormal()),\n",
    "                       Dropout(dropout),\n",
    "                       Dense(nodes, activation=\"elu\", kernel_initializer=tf.keras.initializers.HeNormal())\n",
    "                       ]\n",
    "\n",
    "sequential_list.append(Dense(n_classes + 1, activation=\"softmax\"))\n",
    "loss = \"sparse_categorical_crossentropy\"\n",
    "clf = Sequential(sequential_list)\n",
    "clf.compile(loss=loss,\n",
    "                optimizer=tf.keras.optimizers.Adam(learning_rate=0.001),\n",
    "                metrics=['accuracy'])\n",
    "clf.fit(x_train, y_train, epochs=200, batch_size=32, verbose=0)\n",
    "print_accuracy(x_train, y_train, x_test, y_test, clf, 'DNN')"
   ]
  },
  {
   "cell_type": "markdown",
   "id": "039c5fdb",
   "metadata": {},
   "source": [
    "# Reducing overfitting"
   ]
  },
  {
   "cell_type": "code",
   "execution_count": 67,
   "id": "105ebdc7",
   "metadata": {},
   "outputs": [
    {
     "name": "stdout",
     "output_type": "stream",
     "text": [
      "Model DF\n",
      "Accuracy train: 100.0\n",
      "Accuracy test : 90.0\n"
     ]
    }
   ],
   "source": [
    "clf_deep_forest = CascadeForestClassifier(random_state=42, \n",
    "                                          max_depth=15, \n",
    "                                          n_trees = 100,\n",
    "                                          verbose=0)\n",
    "clf_deep_forest.fit(x_train, y_train)\n",
    "print_accuracy(x_train, y_train, x_test, y_test, clf_deep_forest, 'DF')\n",
    "# Accuracy train: 100\n",
    "# Accuracy test : 90"
   ]
  },
  {
   "cell_type": "code",
   "execution_count": 76,
   "id": "484e7523",
   "metadata": {},
   "outputs": [
    {
     "name": "stdout",
     "output_type": "stream",
     "text": [
      "Model RF\n",
      "Accuracy train: 100.0\n",
      "Accuracy test : 89.0\n"
     ]
    }
   ],
   "source": [
    "clf_forest = RandomForestClassifier(random_state = 42,\n",
    "                                    n_estimators = 100,\n",
    "                                    max_depth = 15)\n",
    "clf_forest.fit(x_train, y_train)\n",
    "\n",
    "print_accuracy(x_train, y_train, x_test, y_test, clf_forest, 'RF')\n",
    "# Accuracy train: 100.0\n",
    "# Accuracy test : 89.0"
   ]
  },
  {
   "cell_type": "code",
   "execution_count": 77,
   "id": "c4dc69c0",
   "metadata": {},
   "outputs": [
    {
     "name": "stdout",
     "output_type": "stream",
     "text": [
      "Model DT\n",
      "Accuracy train: 100.0\n",
      "Accuracy test : 88.0\n"
     ]
    }
   ],
   "source": [
    "clf_tree = DecisionTreeClassifier(random_state = 42, \n",
    "                                  max_depth = 10, \n",
    "                                  criterion = 'entropy')\n",
    "clf_tree.fit(x_train, y_train)\n",
    "\n",
    "print_accuracy(x_train, y_train, x_test, y_test, clf_tree, 'DT')\n",
    "# Accuracy train: 100.0\n",
    "# Accuracy test : 88.0"
   ]
  },
  {
   "cell_type": "code",
   "execution_count": 60,
   "id": "831c5337",
   "metadata": {},
   "outputs": [
    {
     "name": "stdout",
     "output_type": "stream",
     "text": [
      "Model SVM\n",
      "Accuracy train: 95.0\n",
      "Accuracy test : 92.0\n"
     ]
    }
   ],
   "source": [
    "clf_svm = svm.SVC(C = 10, \n",
    "                  random_state = 42)\n",
    "\n",
    "clf_svm.fit(x_train, y_train)\n",
    "print_accuracy(x_train, y_train, x_test, y_test, clf_svm, 'SVM')\n",
    "# Accuracy train: 95.0\n",
    "# Accuracy test : 92.0"
   ]
  },
  {
   "cell_type": "code",
   "execution_count": 79,
   "id": "e8ccba4e",
   "metadata": {},
   "outputs": [
    {
     "name": "stdout",
     "output_type": "stream",
     "text": [
      "Model DNN\n",
      "Accuracy train: 97.0\n",
      "Accuracy test : 91.0\n"
     ]
    }
   ],
   "source": [
    "n_classes = len(np.unique(y_train))\n",
    "n_features = x_train.shape[1]\n",
    "dropout = 0.15\n",
    "nodes = 200\n",
    "epochs = 200\n",
    "learning_rate = 0.001\n",
    "activation = \"relu\"\n",
    "sequential_list = [InputLayer(n_features),\n",
    "                       Dense(nodes, activation=activation, kernel_initializer=tf.keras.initializers.HeNormal()),\n",
    "                       Dropout(dropout),\n",
    "                       Dense(nodes, activation=activation, kernel_initializer=tf.keras.initializers.HeNormal()),\n",
    "                       Dropout(dropout),\n",
    "                       Dense(nodes, activation=activation, kernel_initializer=tf.keras.initializers.HeNormal()),\n",
    "                       Dropout(dropout),\n",
    "                       Dense(nodes, activation=activation, kernel_initializer=tf.keras.initializers.HeNormal()),\n",
    "                       Dropout(dropout),\n",
    "                       Dense(nodes, activation=activation, kernel_initializer=tf.keras.initializers.HeNormal()),\n",
    "                       Dropout(dropout),\n",
    "                       Dense(nodes, activation=activation, kernel_initializer=tf.keras.initializers.HeNormal()),\n",
    "                       Dropout(dropout),\n",
    "                       Dense(nodes, activation=activation, kernel_initializer=tf.keras.initializers.HeNormal()),\n",
    "                       Dropout(dropout),\n",
    "                       Dense(nodes, activation=activation, kernel_initializer=tf.keras.initializers.HeNormal()),\n",
    "                       Dropout(dropout),\n",
    "                       Dense(nodes, activation=activation, kernel_initializer=tf.keras.initializers.HeNormal()),\n",
    "                       Dropout(dropout),\n",
    "                       Dense(nodes, activation=activation, kernel_initializer=tf.keras.initializers.HeNormal())\n",
    "                       ]\n",
    "\n",
    "sequential_list.append(Dense(n_classes+1, activation=\"softmax\"))\n",
    "loss = \"sparse_categorical_crossentropy\"\n",
    "clf = Sequential(sequential_list)\n",
    "clf.compile(loss=loss,\n",
    "                optimizer=tf.keras.optimizers.Adam(learning_rate=0.001),\n",
    "                metrics=['accuracy'])\n",
    "clf.fit(x_train, y_train, epochs=200, batch_size=32, verbose=0)\n",
    "print_accuracy(x_train, y_train, x_test, y_test, clf, 'DNN')"
   ]
  },
  {
   "cell_type": "markdown",
   "id": "04ab8968",
   "metadata": {},
   "source": [
    "# Digits Dataset"
   ]
  },
  {
   "cell_type": "code",
   "execution_count": 80,
   "id": "6dbcfe7a",
   "metadata": {},
   "outputs": [],
   "source": [
    "df_digits_sample = get_sample(df_digits,1000,10)\n",
    "x_train, x_test, y_train, y_test  = split_train_test(df_digits_sample)\n",
    "scaler = MinMaxScaler()\n",
    "x_train = scaler.fit_transform(x_train)\n",
    "x_test = scaler.transform(x_test)"
   ]
  },
  {
   "cell_type": "markdown",
   "id": "75390509",
   "metadata": {},
   "source": [
    "## Default params"
   ]
  },
  {
   "cell_type": "code",
   "execution_count": 81,
   "id": "a6e1d504",
   "metadata": {},
   "outputs": [
    {
     "name": "stdout",
     "output_type": "stream",
     "text": [
      "Model DF\n",
      "Accuracy train: 100.0\n",
      "Accuracy test : 95.0\n"
     ]
    }
   ],
   "source": [
    "clf_deep_forest_default = CascadeForestClassifier(random_state = 42,verbose=0)\n",
    "clf_deep_forest_default.fit(x_train, y_train)\n",
    "print_accuracy(x_train, y_train, x_test, y_test, clf_deep_forest_default, 'DF')"
   ]
  },
  {
   "cell_type": "code",
   "execution_count": 82,
   "id": "8966c0d8",
   "metadata": {},
   "outputs": [
    {
     "name": "stdout",
     "output_type": "stream",
     "text": [
      "Model RF\n",
      "Accuracy train: 100.0\n",
      "Accuracy test : 96.0\n"
     ]
    }
   ],
   "source": [
    "clf_forest_default = RandomForestClassifier(random_state = 42)\n",
    "clf_forest_default.fit(x_train, y_train)\n",
    "print_accuracy(x_train, y_train, x_test, y_test, clf_forest_default, 'RF')"
   ]
  },
  {
   "cell_type": "code",
   "execution_count": 83,
   "id": "9b34e450",
   "metadata": {},
   "outputs": [
    {
     "name": "stdout",
     "output_type": "stream",
     "text": [
      "Model DT\n",
      "Accuracy train: 100.0\n",
      "Accuracy test : 81.0\n"
     ]
    }
   ],
   "source": [
    "clf_tree_default = DecisionTreeClassifier(random_state = 42)\n",
    "clf_tree_default.fit(x_train, y_train)\n",
    "print_accuracy(x_train, y_train, x_test, y_test, clf_tree_default, 'DT')"
   ]
  },
  {
   "cell_type": "code",
   "execution_count": 84,
   "id": "ca9cdea6",
   "metadata": {},
   "outputs": [
    {
     "name": "stdout",
     "output_type": "stream",
     "text": [
      "Model SVM\n",
      "Accuracy train: 100.0\n",
      "Accuracy test : 97.0\n"
     ]
    }
   ],
   "source": [
    "clf_svm_default = svm.SVC(random_state = 42)\n",
    "clf_svm_default.fit(x_train, y_train)\n",
    "print_accuracy(x_train, y_train, x_test, y_test, clf_svm_default, 'SVM')"
   ]
  },
  {
   "cell_type": "code",
   "execution_count": 85,
   "id": "4646f142",
   "metadata": {},
   "outputs": [
    {
     "name": "stdout",
     "output_type": "stream",
     "text": [
      "Model DNN\n",
      "Accuracy train: 100.0\n",
      "Accuracy test : 95.0\n"
     ]
    }
   ],
   "source": [
    "n_classes = len(np.unique(y_train))\n",
    "n_features = x_train.shape[1]\n",
    "dropout = 0.1\n",
    "nodes = 100\n",
    "epochs = 200\n",
    "learning_rate = 0.001\n",
    "\n",
    "sequential_list = [InputLayer(n_features),\n",
    "                       Dense(nodes, activation=\"elu\", kernel_initializer=tf.keras.initializers.HeNormal()),\n",
    "                       Dropout(dropout),\n",
    "                       Dense(nodes, activation=\"elu\", kernel_initializer=tf.keras.initializers.HeNormal()),\n",
    "                       Dropout(dropout),\n",
    "                       Dense(nodes, activation=\"elu\", kernel_initializer=tf.keras.initializers.HeNormal()),\n",
    "                       Dropout(dropout),\n",
    "                       Dense(nodes, activation=\"elu\", kernel_initializer=tf.keras.initializers.HeNormal()),\n",
    "                       Dropout(dropout),\n",
    "                       Dense(nodes, activation=\"elu\", kernel_initializer=tf.keras.initializers.HeNormal()),\n",
    "                       Dropout(dropout),\n",
    "                       Dense(nodes, activation=\"elu\", kernel_initializer=tf.keras.initializers.HeNormal()),\n",
    "                       Dropout(dropout),\n",
    "                       Dense(nodes, activation=\"elu\", kernel_initializer=tf.keras.initializers.HeNormal()),\n",
    "                       Dropout(dropout),\n",
    "                       Dense(nodes, activation=\"elu\", kernel_initializer=tf.keras.initializers.HeNormal()),\n",
    "                       Dropout(dropout),\n",
    "                       Dense(nodes, activation=\"elu\", kernel_initializer=tf.keras.initializers.HeNormal()),\n",
    "                       Dropout(dropout),\n",
    "                       Dense(nodes, activation=\"elu\", kernel_initializer=tf.keras.initializers.HeNormal())\n",
    "                       ]\n",
    "\n",
    "sequential_list.append(Dense(n_classes+1, activation=\"softmax\"))\n",
    "loss = \"sparse_categorical_crossentropy\"\n",
    "clf = Sequential(sequential_list)\n",
    "clf.compile(loss=loss,\n",
    "                optimizer=tf.keras.optimizers.Adam(learning_rate=0.001),\n",
    "                metrics=['accuracy'])\n",
    "clf.fit(x_train, y_train, epochs=200, batch_size=32, verbose=0)\n",
    "print_accuracy(x_train, y_train, x_test, y_test, clf, 'DNN')"
   ]
  },
  {
   "cell_type": "markdown",
   "id": "422ccd7e",
   "metadata": {},
   "source": [
    "# Reducing overfitting"
   ]
  },
  {
   "cell_type": "code",
   "execution_count": 86,
   "id": "99b2a862",
   "metadata": {},
   "outputs": [
    {
     "name": "stdout",
     "output_type": "stream",
     "text": [
      "Model DF\n",
      "Accuracy train: 100.0\n",
      "Accuracy test : 97.0\n"
     ]
    }
   ],
   "source": [
    "clf_deep_forest = CascadeForestClassifier(random_state=42, \n",
    "                                          max_depth=10, \n",
    "                                          n_estimators = 2, \n",
    "                                          n_trees = 200,\n",
    "                                          verbose=0)\n",
    "clf_deep_forest.fit(x_train, y_train)\n",
    "print_accuracy(x_train, y_train, x_test, y_test, clf_deep_forest, 'DF')\n",
    "# Accuracy train: 100\n",
    "# Accuracy test : 97"
   ]
  },
  {
   "cell_type": "code",
   "execution_count": 91,
   "id": "2f4ed3d4",
   "metadata": {},
   "outputs": [
    {
     "name": "stdout",
     "output_type": "stream",
     "text": [
      "Model RF\n",
      "Accuracy train: 100.0\n",
      "Accuracy test : 96.0\n"
     ]
    }
   ],
   "source": [
    "clf_forest = RandomForestClassifier(random_state = 42,\n",
    "                                    n_estimators = 100,\n",
    "                                    max_depth = 15)\n",
    "clf_forest.fit(x_train, y_train)\n",
    "\n",
    "print_accuracy(x_train, y_train, x_test, y_test, clf_forest, 'RF')\n",
    "# Accuracy train: 100.0\n",
    "# Accuracy test : 95"
   ]
  },
  {
   "cell_type": "code",
   "execution_count": 88,
   "id": "23483fb4",
   "metadata": {},
   "outputs": [
    {
     "name": "stdout",
     "output_type": "stream",
     "text": [
      "Model DT\n",
      "Accuracy train: 100.0\n",
      "Accuracy test : 85.0\n"
     ]
    }
   ],
   "source": [
    "clf_tree = DecisionTreeClassifier(random_state = 42, \n",
    "                                  max_depth = 10, \n",
    "                                  criterion = 'entropy')\n",
    "clf_tree.fit(x_train, y_train)\n",
    "\n",
    "print_accuracy(x_train, y_train, x_test, y_test, clf_tree, 'DT')\n",
    "# Accuracy train: 100.0\n",
    "# Accuracy test : 88.0"
   ]
  },
  {
   "cell_type": "code",
   "execution_count": 94,
   "id": "c6274bc8",
   "metadata": {},
   "outputs": [
    {
     "name": "stdout",
     "output_type": "stream",
     "text": [
      "Model SVM\n",
      "Accuracy train: 100.0\n",
      "Accuracy test : 99.0\n"
     ]
    }
   ],
   "source": [
    "clf_svm = svm.SVC(C = 10, \n",
    "                  random_state = 42)\n",
    "\n",
    "clf_svm.fit(x_train, y_train)\n",
    "print_accuracy(x_train, y_train, x_test, y_test, clf_svm, 'SVM')\n",
    "# Accuracy train: 95.0\n",
    "# Accuracy test : 92.0"
   ]
  },
  {
   "cell_type": "code",
   "execution_count": 90,
   "id": "bcd3d2e0",
   "metadata": {},
   "outputs": [
    {
     "name": "stdout",
     "output_type": "stream",
     "text": [
      "Model DNN\n",
      "Accuracy train: 100.0\n",
      "Accuracy test : 97.0\n"
     ]
    }
   ],
   "source": [
    "n_classes = len(np.unique(y_train))\n",
    "n_features = x_train.shape[1]\n",
    "dropout = 0.1\n",
    "nodes = 100\n",
    "epochs = 200\n",
    "learning_rate = 0.001\n",
    "activation = \"relu\"\n",
    "sequential_list = [InputLayer(n_features),\n",
    "                       Dense(nodes, activation=activation, kernel_initializer=tf.keras.initializers.HeNormal()),\n",
    "                       Dropout(dropout),\n",
    "                       Dense(nodes, activation=activation, kernel_initializer=tf.keras.initializers.HeNormal()),\n",
    "                       Dropout(dropout),\n",
    "                       Dense(nodes, activation=activation, kernel_initializer=tf.keras.initializers.HeNormal()),\n",
    "                       Dropout(dropout),\n",
    "                       Dense(nodes, activation=activation, kernel_initializer=tf.keras.initializers.HeNormal()),\n",
    "                       Dropout(dropout),\n",
    "                       Dense(nodes, activation=activation, kernel_initializer=tf.keras.initializers.HeNormal()),\n",
    "                       Dropout(dropout),\n",
    "                       Dense(nodes, activation=activation, kernel_initializer=tf.keras.initializers.HeNormal()),\n",
    "                       Dropout(dropout),\n",
    "                       Dense(nodes, activation=activation, kernel_initializer=tf.keras.initializers.HeNormal()),\n",
    "                       Dropout(dropout),\n",
    "                       Dense(nodes, activation=activation, kernel_initializer=tf.keras.initializers.HeNormal()),\n",
    "                       Dropout(dropout),\n",
    "                       Dense(nodes, activation=activation, kernel_initializer=tf.keras.initializers.HeNormal()),\n",
    "                       Dropout(dropout),\n",
    "                       Dense(nodes, activation=activation, kernel_initializer=tf.keras.initializers.HeNormal())\n",
    "                       ]\n",
    "\n",
    "sequential_list.append(Dense(n_classes + 1, activation=\"softmax\"))\n",
    "loss = \"sparse_categorical_crossentropy\"\n",
    "clf = Sequential(sequential_list)\n",
    "clf.compile(loss=loss,\n",
    "                optimizer=tf.keras.optimizers.Adam(learning_rate=0.001),\n",
    "                metrics=['accuracy'])\n",
    "clf.fit(x_train, y_train, epochs=200, batch_size=32, verbose=0)\n",
    "print_accuracy(x_train, y_train, x_test, y_test, clf, 'DNN')"
   ]
  },
  {
   "cell_type": "markdown",
   "id": "a500b973",
   "metadata": {},
   "source": [
    "# Chess Dataset"
   ]
  },
  {
   "cell_type": "code",
   "execution_count": 95,
   "id": "4820d880",
   "metadata": {},
   "outputs": [],
   "source": [
    "df_chess_sample = get_sample(df_chess,1000,10)\n",
    "x_train, x_test, y_train, y_test  = split_train_test(df_chess_sample)\n",
    "scaler = MinMaxScaler()\n",
    "x_train = scaler.fit_transform(x_train)\n",
    "x_test = scaler.transform(x_test)"
   ]
  },
  {
   "cell_type": "markdown",
   "id": "c8884ccc",
   "metadata": {},
   "source": [
    "## Default params"
   ]
  },
  {
   "cell_type": "code",
   "execution_count": 96,
   "id": "94fc0cb9",
   "metadata": {},
   "outputs": [
    {
     "name": "stdout",
     "output_type": "stream",
     "text": [
      "Model DF\n",
      "Accuracy train: 100.0\n",
      "Accuracy test : 99.0\n"
     ]
    }
   ],
   "source": [
    "clf_deep_forest_default = CascadeForestClassifier(random_state = 42,verbose=0)\n",
    "clf_deep_forest_default.fit(x_train, y_train)\n",
    "print_accuracy(x_train, y_train, x_test, y_test, clf_deep_forest_default, 'DF')"
   ]
  },
  {
   "cell_type": "code",
   "execution_count": 97,
   "id": "a91035ce",
   "metadata": {},
   "outputs": [
    {
     "name": "stdout",
     "output_type": "stream",
     "text": [
      "Model RF\n",
      "Accuracy train: 100.0\n",
      "Accuracy test : 98.0\n"
     ]
    }
   ],
   "source": [
    "clf_forest_default = RandomForestClassifier(random_state = 42)\n",
    "clf_forest_default.fit(x_train, y_train)\n",
    "print_accuracy(x_train, y_train, x_test, y_test, clf_forest_default, 'RF')"
   ]
  },
  {
   "cell_type": "code",
   "execution_count": 98,
   "id": "b66cd450",
   "metadata": {},
   "outputs": [
    {
     "name": "stdout",
     "output_type": "stream",
     "text": [
      "Model DT\n",
      "Accuracy train: 100.0\n",
      "Accuracy test : 99.0\n"
     ]
    }
   ],
   "source": [
    "clf_tree_default = DecisionTreeClassifier(random_state = 42)\n",
    "clf_tree_default.fit(x_train, y_train)\n",
    "print_accuracy(x_train, y_train, x_test, y_test, clf_tree_default, 'DT')"
   ]
  },
  {
   "cell_type": "code",
   "execution_count": 99,
   "id": "35f56d4e",
   "metadata": {},
   "outputs": [
    {
     "name": "stdout",
     "output_type": "stream",
     "text": [
      "Model SVM\n",
      "Accuracy train: 95.0\n",
      "Accuracy test : 96.0\n"
     ]
    }
   ],
   "source": [
    "clf_svm_default = svm.SVC(random_state = 42)\n",
    "clf_svm_default.fit(x_train, y_train)\n",
    "print_accuracy(x_train, y_train, x_test, y_test, clf_svm_default, 'SVM')"
   ]
  },
  {
   "cell_type": "code",
   "execution_count": 100,
   "id": "b6531c3a",
   "metadata": {},
   "outputs": [
    {
     "name": "stdout",
     "output_type": "stream",
     "text": [
      "Model DNN\n",
      "Accuracy train: 100.0\n",
      "Accuracy test : 99.0\n"
     ]
    }
   ],
   "source": [
    "n_classes = len(np.unique(y_train))\n",
    "n_features = x_train.shape[1]\n",
    "dropout = 0.1\n",
    "nodes = 100\n",
    "epochs = 200\n",
    "learning_rate = 0.001\n",
    "\n",
    "sequential_list = [InputLayer(n_features),\n",
    "                       Dense(nodes, activation=\"elu\", kernel_initializer=tf.keras.initializers.HeNormal()),\n",
    "                       Dropout(dropout),\n",
    "                       Dense(nodes, activation=\"elu\", kernel_initializer=tf.keras.initializers.HeNormal()),\n",
    "                       Dropout(dropout),\n",
    "                       Dense(nodes, activation=\"elu\", kernel_initializer=tf.keras.initializers.HeNormal()),\n",
    "                       Dropout(dropout),\n",
    "                       Dense(nodes, activation=\"elu\", kernel_initializer=tf.keras.initializers.HeNormal()),\n",
    "                       Dropout(dropout),\n",
    "                       Dense(nodes, activation=\"elu\", kernel_initializer=tf.keras.initializers.HeNormal()),\n",
    "                       Dropout(dropout),\n",
    "                       Dense(nodes, activation=\"elu\", kernel_initializer=tf.keras.initializers.HeNormal()),\n",
    "                       Dropout(dropout),\n",
    "                       Dense(nodes, activation=\"elu\", kernel_initializer=tf.keras.initializers.HeNormal()),\n",
    "                       Dropout(dropout),\n",
    "                       Dense(nodes, activation=\"elu\", kernel_initializer=tf.keras.initializers.HeNormal()),\n",
    "                       Dropout(dropout),\n",
    "                       Dense(nodes, activation=\"elu\", kernel_initializer=tf.keras.initializers.HeNormal()),\n",
    "                       Dropout(dropout),\n",
    "                       Dense(nodes, activation=\"elu\", kernel_initializer=tf.keras.initializers.HeNormal())\n",
    "                       ]\n",
    "\n",
    "sequential_list.append(Dense(1, activation=\"sigmoid\"))\n",
    "loss = 'binary_crossentropy'\n",
    "clf = Sequential(sequential_list)\n",
    "clf.compile(loss=loss,\n",
    "                optimizer=tf.keras.optimizers.Adam(learning_rate=0.001),\n",
    "                metrics=['accuracy'])\n",
    "clf.fit(x_train, y_train, epochs=200, batch_size=32, verbose=0)\n",
    "print_accuracy(x_train, y_train, x_test, y_test, clf, 'DNN')"
   ]
  },
  {
   "cell_type": "markdown",
   "id": "0b50fd12",
   "metadata": {},
   "source": [
    "# Reducing overfitting"
   ]
  },
  {
   "cell_type": "code",
   "execution_count": 101,
   "id": "2805da1b",
   "metadata": {},
   "outputs": [
    {
     "name": "stdout",
     "output_type": "stream",
     "text": [
      "Model DF\n",
      "Accuracy train: 100.0\n",
      "Accuracy test : 99.0\n"
     ]
    }
   ],
   "source": [
    "clf_deep_forest = CascadeForestClassifier(random_state=42, \n",
    "                                          max_depth=15, \n",
    "                                          n_estimators = 4, \n",
    "                                          n_trees = 500,\n",
    "                                          verbose=0)\n",
    "clf_deep_forest.fit(x_train, y_train)\n",
    "print_accuracy(x_train, y_train, x_test, y_test, clf_deep_forest, 'DF')\n",
    "# Accuracy train: 100\n",
    "# Accuracy test : 97"
   ]
  },
  {
   "cell_type": "code",
   "execution_count": 102,
   "id": "8fffacab",
   "metadata": {},
   "outputs": [
    {
     "name": "stdout",
     "output_type": "stream",
     "text": [
      "Model RF\n",
      "Accuracy train: 100.0\n",
      "Accuracy test : 99.0\n"
     ]
    }
   ],
   "source": [
    "clf_forest = RandomForestClassifier(random_state = 42,\n",
    "                                    n_estimators = 100,\n",
    "                                    max_depth = 15)\n",
    "clf_forest.fit(x_train, y_train)\n",
    "\n",
    "print_accuracy(x_train, y_train, x_test, y_test, clf_forest, 'RF')\n",
    "# Accuracy train: 100.0\n",
    "# Accuracy test : 95"
   ]
  },
  {
   "cell_type": "code",
   "execution_count": 103,
   "id": "edff521a",
   "metadata": {},
   "outputs": [
    {
     "name": "stdout",
     "output_type": "stream",
     "text": [
      "Model DT\n",
      "Accuracy train: 100.0\n",
      "Accuracy test : 99.0\n"
     ]
    }
   ],
   "source": [
    "clf_tree = DecisionTreeClassifier(random_state = 42, \n",
    "                                  max_depth = 10, \n",
    "                                  criterion = 'entropy')\n",
    "clf_tree.fit(x_train, y_train)\n",
    "\n",
    "print_accuracy(x_train, y_train, x_test, y_test, clf_tree, 'DT')\n",
    "# Accuracy train: 100.0\n",
    "# Accuracy test : 88.0"
   ]
  },
  {
   "cell_type": "code",
   "execution_count": 104,
   "id": "b9774069",
   "metadata": {},
   "outputs": [
    {
     "name": "stdout",
     "output_type": "stream",
     "text": [
      "Model SVM\n",
      "Accuracy train: 100.0\n",
      "Accuracy test : 98.0\n"
     ]
    }
   ],
   "source": [
    "clf_svm = svm.SVC(C = 100, \n",
    "                  random_state = 42)\n",
    "\n",
    "clf_svm.fit(x_train, y_train)\n",
    "print_accuracy(x_train, y_train, x_test, y_test, clf_svm, 'SVM')\n",
    "# Accuracy train: 95.0\n",
    "# Accuracy test : 92.0"
   ]
  },
  {
   "cell_type": "code",
   "execution_count": 105,
   "id": "80637eee",
   "metadata": {},
   "outputs": [
    {
     "name": "stdout",
     "output_type": "stream",
     "text": [
      "Model DNN\n",
      "Accuracy train: 100.0\n",
      "Accuracy test : 95.0\n"
     ]
    }
   ],
   "source": [
    "n_classes = len(np.unique(y_train))\n",
    "n_features = x_train.shape[1]\n",
    "dropout = 0.1\n",
    "nodes = 100\n",
    "epochs = 200\n",
    "learning_rate = 0.001\n",
    "activation = \"relu\"\n",
    "sequential_list = [InputLayer(n_features),\n",
    "                       Dense(nodes, activation=activation, kernel_initializer=tf.keras.initializers.HeNormal()),\n",
    "                       Dropout(dropout),\n",
    "                       Dense(nodes, activation=activation, kernel_initializer=tf.keras.initializers.HeNormal()),\n",
    "                       Dropout(dropout),\n",
    "                       Dense(nodes, activation=activation, kernel_initializer=tf.keras.initializers.HeNormal()),\n",
    "                       Dropout(dropout),\n",
    "                       Dense(nodes, activation=activation, kernel_initializer=tf.keras.initializers.HeNormal()),\n",
    "                       Dropout(dropout),\n",
    "                       Dense(nodes, activation=activation, kernel_initializer=tf.keras.initializers.HeNormal()),\n",
    "                       Dropout(dropout),\n",
    "                       Dense(nodes, activation=activation, kernel_initializer=tf.keras.initializers.HeNormal()),\n",
    "                       Dropout(dropout),\n",
    "                       Dense(nodes, activation=activation, kernel_initializer=tf.keras.initializers.HeNormal()),\n",
    "                       Dropout(dropout),\n",
    "                       Dense(nodes, activation=activation, kernel_initializer=tf.keras.initializers.HeNormal()),\n",
    "                       Dropout(dropout),\n",
    "                       Dense(nodes, activation=activation, kernel_initializer=tf.keras.initializers.HeNormal()),\n",
    "                       Dropout(dropout),\n",
    "                       Dense(nodes, activation=activation, kernel_initializer=tf.keras.initializers.HeNormal())\n",
    "                       ]\n",
    "\n",
    "sequential_list.append(Dense(1, activation=\"sigmoid\"))\n",
    "loss = 'binary_crossentropy'\n",
    "clf = Sequential(sequential_list)\n",
    "clf.compile(loss=loss,\n",
    "                optimizer=tf.keras.optimizers.Adam(learning_rate=0.001),\n",
    "                metrics=['accuracy'])\n",
    "clf.fit(x_train, y_train, epochs=200, batch_size=32, verbose=0)\n",
    "print_accuracy(x_train, y_train, x_test, y_test, clf, 'DNN')"
   ]
  },
  {
   "cell_type": "markdown",
   "id": "d2e05878",
   "metadata": {},
   "source": [
    "# Diabetes Dataset"
   ]
  },
  {
   "cell_type": "code",
   "execution_count": 106,
   "id": "aecb2330",
   "metadata": {},
   "outputs": [],
   "source": [
    "df_diabetes_sample = get_sample(df_diabetes,1000,0)\n",
    "x_train, x_test, y_train, y_test  = split_train_test(df_diabetes_sample)\n",
    "scaler = MinMaxScaler()\n",
    "x_train = scaler.fit_transform(x_train)\n",
    "x_test = scaler.transform(x_test)"
   ]
  },
  {
   "cell_type": "markdown",
   "id": "3979abd6",
   "metadata": {},
   "source": [
    "## Default params"
   ]
  },
  {
   "cell_type": "code",
   "execution_count": 107,
   "id": "4298999c",
   "metadata": {},
   "outputs": [
    {
     "name": "stdout",
     "output_type": "stream",
     "text": [
      "Model DF\n",
      "Accuracy train: 100.0\n",
      "Accuracy test : 72.0\n"
     ]
    }
   ],
   "source": [
    "clf_deep_forest_default = CascadeForestClassifier(random_state = 42,verbose=0)\n",
    "clf_deep_forest_default.fit(x_train, y_train)\n",
    "print_accuracy(x_train, y_train, x_test, y_test, clf_deep_forest_default, 'DF')"
   ]
  },
  {
   "cell_type": "code",
   "execution_count": 108,
   "id": "e1ca187a",
   "metadata": {},
   "outputs": [
    {
     "name": "stdout",
     "output_type": "stream",
     "text": [
      "Model RF\n",
      "Accuracy train: 100.0\n",
      "Accuracy test : 70.0\n"
     ]
    }
   ],
   "source": [
    "clf_forest_default = RandomForestClassifier(random_state = 42)\n",
    "clf_forest_default.fit(x_train, y_train)\n",
    "print_accuracy(x_train, y_train, x_test, y_test, clf_forest_default, 'RF')"
   ]
  },
  {
   "cell_type": "code",
   "execution_count": 109,
   "id": "b2e52b21",
   "metadata": {},
   "outputs": [
    {
     "name": "stdout",
     "output_type": "stream",
     "text": [
      "Model DT\n",
      "Accuracy train: 100.0\n",
      "Accuracy test : 62.0\n"
     ]
    }
   ],
   "source": [
    "clf_tree_default = DecisionTreeClassifier(random_state = 42)\n",
    "clf_tree_default.fit(x_train, y_train)\n",
    "print_accuracy(x_train, y_train, x_test, y_test, clf_tree_default, 'DT')"
   ]
  },
  {
   "cell_type": "code",
   "execution_count": 110,
   "id": "d191c7c2",
   "metadata": {},
   "outputs": [
    {
     "name": "stdout",
     "output_type": "stream",
     "text": [
      "Model SVM\n",
      "Accuracy train: 66.0\n",
      "Accuracy test : 66.0\n"
     ]
    }
   ],
   "source": [
    "clf_svm_default = svm.SVC(random_state = 42)\n",
    "clf_svm_default.fit(x_train, y_train)\n",
    "print_accuracy(x_train, y_train, x_test, y_test, clf_svm_default, 'SVM')"
   ]
  },
  {
   "cell_type": "code",
   "execution_count": 111,
   "id": "6e1b15de",
   "metadata": {},
   "outputs": [
    {
     "name": "stdout",
     "output_type": "stream",
     "text": [
      "Model DNN\n",
      "Accuracy train: 80.0\n",
      "Accuracy test : 72.0\n"
     ]
    }
   ],
   "source": [
    "n_classes = len(np.unique(y_train))\n",
    "n_features = x_train.shape[1]\n",
    "dropout = 0.1\n",
    "nodes = 100\n",
    "epochs = 200\n",
    "learning_rate = 0.001\n",
    "\n",
    "sequential_list = [InputLayer(n_features),\n",
    "                       Dense(nodes, activation=\"elu\", kernel_initializer=tf.keras.initializers.HeNormal()),\n",
    "                       Dropout(dropout),\n",
    "                       Dense(nodes, activation=\"elu\", kernel_initializer=tf.keras.initializers.HeNormal()),\n",
    "                       Dropout(dropout),\n",
    "                       Dense(nodes, activation=\"elu\", kernel_initializer=tf.keras.initializers.HeNormal()),\n",
    "                       Dropout(dropout),\n",
    "                       Dense(nodes, activation=\"elu\", kernel_initializer=tf.keras.initializers.HeNormal()),\n",
    "                       Dropout(dropout),\n",
    "                       Dense(nodes, activation=\"elu\", kernel_initializer=tf.keras.initializers.HeNormal()),\n",
    "                       Dropout(dropout),\n",
    "                       Dense(nodes, activation=\"elu\", kernel_initializer=tf.keras.initializers.HeNormal()),\n",
    "                       Dropout(dropout),\n",
    "                       Dense(nodes, activation=\"elu\", kernel_initializer=tf.keras.initializers.HeNormal()),\n",
    "                       Dropout(dropout),\n",
    "                       Dense(nodes, activation=\"elu\", kernel_initializer=tf.keras.initializers.HeNormal()),\n",
    "                       Dropout(dropout),\n",
    "                       Dense(nodes, activation=\"elu\", kernel_initializer=tf.keras.initializers.HeNormal()),\n",
    "                       Dropout(dropout),\n",
    "                       Dense(nodes, activation=\"elu\", kernel_initializer=tf.keras.initializers.HeNormal())\n",
    "                       ]\n",
    "\n",
    "sequential_list.append(Dense(1, activation=\"sigmoid\"))\n",
    "loss = 'binary_crossentropy'\n",
    "clf = Sequential(sequential_list)\n",
    "clf.compile(loss=loss,\n",
    "                optimizer=tf.keras.optimizers.Adam(learning_rate=0.001),\n",
    "                metrics=['accuracy'])\n",
    "clf.fit(x_train, y_train, epochs=200, batch_size=32, verbose=0)\n",
    "print_accuracy(x_train, y_train, x_test, y_test, clf, 'DNN')"
   ]
  },
  {
   "cell_type": "markdown",
   "id": "31c1f314",
   "metadata": {},
   "source": [
    "# Reducing overfitting"
   ]
  },
  {
   "cell_type": "code",
   "execution_count": 130,
   "id": "0480e47d",
   "metadata": {},
   "outputs": [
    {
     "name": "stdout",
     "output_type": "stream",
     "text": [
      "Model DF\n",
      "Accuracy train: 100.0\n",
      "Accuracy test : 70.0\n"
     ]
    }
   ],
   "source": [
    "clf_deep_forest = CascadeForestClassifier(random_state=42, \n",
    "                                          max_depth = 15,\n",
    "                                          n_estimators = 2,\n",
    "                                          verbose=0)\n",
    "clf_deep_forest.fit(x_train, y_train)\n",
    "print_accuracy(x_train, y_train, x_test, y_test, clf_deep_forest, 'DF')\n",
    "# Accuracy train: 100\n",
    "# Accuracy test : 72"
   ]
  },
  {
   "cell_type": "code",
   "execution_count": 124,
   "id": "bfd14c3e",
   "metadata": {},
   "outputs": [
    {
     "name": "stdout",
     "output_type": "stream",
     "text": [
      "Model RF\n",
      "Accuracy train: 100.0\n",
      "Accuracy test : 72.0\n"
     ]
    }
   ],
   "source": [
    "clf_forest = RandomForestClassifier(random_state = 42,\n",
    "                                    n_estimators = 200,\n",
    "                                    max_depth = 15)\n",
    "clf_forest.fit(x_train, y_train)\n",
    "\n",
    "print_accuracy(x_train, y_train, x_test, y_test, clf_forest, 'RF')\n",
    "# Accuracy train: 100.0\n",
    "# Accuracy test : 95"
   ]
  },
  {
   "cell_type": "code",
   "execution_count": 131,
   "id": "9e0b3191",
   "metadata": {},
   "outputs": [
    {
     "name": "stdout",
     "output_type": "stream",
     "text": [
      "Model DT\n",
      "Accuracy train: 100.0\n",
      "Accuracy test : 63.0\n"
     ]
    }
   ],
   "source": [
    "clf_tree = DecisionTreeClassifier(random_state = 42, \n",
    "                                  max_depth = 16, \n",
    "                                  criterion = 'gini')\n",
    "clf_tree.fit(x_train, y_train)\n",
    "\n",
    "print_accuracy(x_train, y_train, x_test, y_test, clf_tree, 'DT')\n",
    "# Accuracy train: 100.0\n",
    "# Accuracy test : 88.0"
   ]
  },
  {
   "cell_type": "code",
   "execution_count": 132,
   "id": "a1134059",
   "metadata": {},
   "outputs": [
    {
     "name": "stdout",
     "output_type": "stream",
     "text": [
      "Model SVM\n",
      "Accuracy train: 81.0\n",
      "Accuracy test : 75.0\n"
     ]
    }
   ],
   "source": [
    "clf_svm = svm.SVC(C = 100, \n",
    "                  random_state = 42)\n",
    "\n",
    "clf_svm.fit(x_train, y_train)\n",
    "print_accuracy(x_train, y_train, x_test, y_test, clf_svm, 'SVM')\n",
    "# Accuracy train: 95.0\n",
    "# Accuracy test : 92.0"
   ]
  },
  {
   "cell_type": "code",
   "execution_count": 133,
   "id": "251f01b9",
   "metadata": {},
   "outputs": [
    {
     "name": "stdout",
     "output_type": "stream",
     "text": [
      "Model DNN\n",
      "Accuracy train: 89.0\n",
      "Accuracy test : 70.0\n"
     ]
    }
   ],
   "source": [
    "n_classes = len(np.unique(y_train))\n",
    "n_features = x_train.shape[1]\n",
    "dropout = 0.2\n",
    "nodes = 100\n",
    "epochs = 400\n",
    "learning_rate = 0.001\n",
    "#activation = \"relu\"\n",
    "sequential_list = [InputLayer(n_features),\n",
    "                       Dense(nodes, activation=activation, kernel_initializer=tf.keras.initializers.HeNormal()),\n",
    "                       Dropout(dropout),\n",
    "                       Dense(nodes, activation=activation, kernel_initializer=tf.keras.initializers.HeNormal()),\n",
    "                       Dropout(dropout),\n",
    "                       Dense(nodes, activation=activation, kernel_initializer=tf.keras.initializers.HeNormal()),\n",
    "                       Dropout(dropout),\n",
    "                       Dense(nodes, activation=activation, kernel_initializer=tf.keras.initializers.HeNormal()),\n",
    "                       Dropout(dropout),\n",
    "                       Dense(nodes, activation=activation, kernel_initializer=tf.keras.initializers.HeNormal()),\n",
    "                       Dropout(dropout),\n",
    "                       Dense(nodes, activation=activation, kernel_initializer=tf.keras.initializers.HeNormal()),\n",
    "                       Dropout(dropout),\n",
    "                       Dense(nodes, activation=activation, kernel_initializer=tf.keras.initializers.HeNormal()),\n",
    "                       Dropout(dropout),\n",
    "                       Dense(nodes, activation=activation, kernel_initializer=tf.keras.initializers.HeNormal()),\n",
    "                       Dropout(dropout),\n",
    "                       Dense(nodes, activation=activation, kernel_initializer=tf.keras.initializers.HeNormal()),\n",
    "                       Dropout(dropout),\n",
    "                       Dense(nodes, activation=activation, kernel_initializer=tf.keras.initializers.HeNormal())\n",
    "                       ]\n",
    "\n",
    "sequential_list.append(Dense(1, activation=\"sigmoid\"))\n",
    "loss = 'binary_crossentropy'\n",
    "clf = Sequential(sequential_list)\n",
    "clf.compile(loss=loss,\n",
    "                optimizer=tf.keras.optimizers.Adam(learning_rate=0.001),\n",
    "                metrics=['accuracy'])\n",
    "clf.fit(x_train, y_train, epochs=epochs, batch_size=32, verbose=0)\n",
    "print_accuracy(x_train, y_train, x_test, y_test, clf, 'DNN')"
   ]
  },
  {
   "cell_type": "markdown",
   "id": "59ec2ec5",
   "metadata": {},
   "source": [
    "# Sensorless Dataset"
   ]
  },
  {
   "cell_type": "code",
   "execution_count": 134,
   "id": "8c4e32b4",
   "metadata": {},
   "outputs": [],
   "source": [
    "df_sensorless_sample = get_sample(df_sensorless,1000,10)\n",
    "x_train, x_test, y_train, y_test  = split_train_test(df_sensorless_sample)\n",
    "scaler = MinMaxScaler()\n",
    "x_train = scaler.fit_transform(x_train)\n",
    "x_test = scaler.transform(x_test)"
   ]
  },
  {
   "cell_type": "markdown",
   "id": "02cef1b7",
   "metadata": {},
   "source": [
    "## Default params"
   ]
  },
  {
   "cell_type": "code",
   "execution_count": 135,
   "id": "ae875d52",
   "metadata": {},
   "outputs": [
    {
     "name": "stdout",
     "output_type": "stream",
     "text": [
      "Model DF\n",
      "Accuracy train: 100.0\n",
      "Accuracy test : 95.0\n"
     ]
    }
   ],
   "source": [
    "clf_deep_forest_default = CascadeForestClassifier(random_state = 42,verbose=0)\n",
    "clf_deep_forest_default.fit(x_train, y_train)\n",
    "print_accuracy(x_train, y_train, x_test, y_test, clf_deep_forest_default, 'DF')"
   ]
  },
  {
   "cell_type": "code",
   "execution_count": 136,
   "id": "e8612085",
   "metadata": {},
   "outputs": [
    {
     "name": "stdout",
     "output_type": "stream",
     "text": [
      "Model RF\n",
      "Accuracy train: 100.0\n",
      "Accuracy test : 95.0\n"
     ]
    }
   ],
   "source": [
    "clf_forest_default = RandomForestClassifier(random_state = 42)\n",
    "clf_forest_default.fit(x_train, y_train)\n",
    "print_accuracy(x_train, y_train, x_test, y_test, clf_forest_default, 'RF')"
   ]
  },
  {
   "cell_type": "code",
   "execution_count": 137,
   "id": "dc493223",
   "metadata": {},
   "outputs": [
    {
     "name": "stdout",
     "output_type": "stream",
     "text": [
      "Model DT\n",
      "Accuracy train: 100.0\n",
      "Accuracy test : 86.0\n"
     ]
    }
   ],
   "source": [
    "clf_tree_default = DecisionTreeClassifier(random_state = 42)\n",
    "clf_tree_default.fit(x_train, y_train)\n",
    "print_accuracy(x_train, y_train, x_test, y_test, clf_tree_default, 'DT')"
   ]
  },
  {
   "cell_type": "code",
   "execution_count": 138,
   "id": "06f88b38",
   "metadata": {},
   "outputs": [
    {
     "name": "stdout",
     "output_type": "stream",
     "text": [
      "Model SVM\n",
      "Accuracy train: 74.0\n",
      "Accuracy test : 56.99999999999999\n"
     ]
    }
   ],
   "source": [
    "clf_svm_default = svm.SVC(random_state = 42)\n",
    "clf_svm_default.fit(x_train, y_train)\n",
    "print_accuracy(x_train, y_train, x_test, y_test, clf_svm_default, 'SVM')"
   ]
  },
  {
   "cell_type": "code",
   "execution_count": 146,
   "id": "bf987d40",
   "metadata": {},
   "outputs": [
    {
     "name": "stdout",
     "output_type": "stream",
     "text": [
      "Model DNN\n",
      "Accuracy train: 99.0\n",
      "Accuracy test : 87.0\n"
     ]
    }
   ],
   "source": [
    "n_classes = len(np.unique(y_train))\n",
    "n_features = x_train.shape[1]\n",
    "dropout = 0.1\n",
    "nodes = 100\n",
    "epochs = 200\n",
    "learning_rate = 0.001\n",
    "\n",
    "sequential_list = [InputLayer(n_features),\n",
    "                       Dense(nodes, activation=\"elu\", kernel_initializer=tf.keras.initializers.HeNormal()),\n",
    "                       Dropout(dropout),\n",
    "                       Dense(nodes, activation=\"elu\", kernel_initializer=tf.keras.initializers.HeNormal()),\n",
    "                       Dropout(dropout),\n",
    "                       Dense(nodes, activation=\"elu\", kernel_initializer=tf.keras.initializers.HeNormal()),\n",
    "                       Dropout(dropout),\n",
    "                       Dense(nodes, activation=\"elu\", kernel_initializer=tf.keras.initializers.HeNormal()),\n",
    "                       Dropout(dropout),\n",
    "                       Dense(nodes, activation=\"elu\", kernel_initializer=tf.keras.initializers.HeNormal()),\n",
    "                       Dropout(dropout),\n",
    "                       Dense(nodes, activation=\"elu\", kernel_initializer=tf.keras.initializers.HeNormal()),\n",
    "                       Dropout(dropout),\n",
    "                       Dense(nodes, activation=\"elu\", kernel_initializer=tf.keras.initializers.HeNormal()),\n",
    "                       Dropout(dropout),\n",
    "                       Dense(nodes, activation=\"elu\", kernel_initializer=tf.keras.initializers.HeNormal()),\n",
    "                       Dropout(dropout),\n",
    "                       Dense(nodes, activation=\"elu\", kernel_initializer=tf.keras.initializers.HeNormal()),\n",
    "                       Dropout(dropout),\n",
    "                       Dense(nodes, activation=\"elu\", kernel_initializer=tf.keras.initializers.HeNormal())\n",
    "                       ]\n",
    "\n",
    "sequential_list.append(Dense(n_classes+1, activation=\"softmax\"))\n",
    "loss = \"sparse_categorical_crossentropy\"\n",
    "clf = Sequential(sequential_list)\n",
    "clf.compile(loss=loss,\n",
    "                optimizer=tf.keras.optimizers.Adam(learning_rate=0.001),\n",
    "                metrics=['accuracy'])\n",
    "clf.fit(x_train, y_train, epochs=200, batch_size=32, verbose=0)\n",
    "print_accuracy(x_train, y_train, x_test, y_test, clf, 'DNN')"
   ]
  },
  {
   "cell_type": "markdown",
   "id": "b7d112d1",
   "metadata": {},
   "source": [
    "# Reducing overfitting"
   ]
  },
  {
   "cell_type": "code",
   "execution_count": 140,
   "id": "98302ce5",
   "metadata": {},
   "outputs": [
    {
     "name": "stdout",
     "output_type": "stream",
     "text": [
      "Model DF\n",
      "Accuracy train: 100.0\n",
      "Accuracy test : 95.0\n"
     ]
    }
   ],
   "source": [
    "clf_deep_forest = CascadeForestClassifier(random_state=42, \n",
    "                                          max_depth=15, \n",
    "                                          verbose=0)\n",
    "clf_deep_forest.fit(x_train, y_train)\n",
    "print_accuracy(x_train, y_train, x_test, y_test, clf_deep_forest, 'DF')\n",
    "# Accuracy train: 100\n",
    "# Accuracy test : 97"
   ]
  },
  {
   "cell_type": "code",
   "execution_count": 141,
   "id": "c4da937e",
   "metadata": {},
   "outputs": [
    {
     "name": "stdout",
     "output_type": "stream",
     "text": [
      "Model RF\n",
      "Accuracy train: 100.0\n",
      "Accuracy test : 95.0\n"
     ]
    }
   ],
   "source": [
    "clf_forest = RandomForestClassifier(random_state = 42,\n",
    "                                    n_estimators = 100,\n",
    "                                    max_depth = 15)\n",
    "clf_forest.fit(x_train, y_train)\n",
    "\n",
    "print_accuracy(x_train, y_train, x_test, y_test, clf_forest, 'RF')\n",
    "# Accuracy train: 100.0\n",
    "# Accuracy test : 95"
   ]
  },
  {
   "cell_type": "code",
   "execution_count": 142,
   "id": "493be670",
   "metadata": {},
   "outputs": [
    {
     "name": "stdout",
     "output_type": "stream",
     "text": [
      "Model DT\n",
      "Accuracy train: 99.0\n",
      "Accuracy test : 87.0\n"
     ]
    }
   ],
   "source": [
    "clf_tree = DecisionTreeClassifier(random_state = 42, \n",
    "                                  max_depth = 10, \n",
    "                                  criterion = 'entropy')\n",
    "clf_tree.fit(x_train, y_train)\n",
    "\n",
    "print_accuracy(x_train, y_train, x_test, y_test, clf_tree, 'DT')\n",
    "# Accuracy train: 100.0\n",
    "# Accuracy test : 88.0"
   ]
  },
  {
   "cell_type": "code",
   "execution_count": 143,
   "id": "88e75985",
   "metadata": {},
   "outputs": [
    {
     "name": "stdout",
     "output_type": "stream",
     "text": [
      "Model SVM\n",
      "Accuracy train: 100.0\n",
      "Accuracy test : 86.0\n"
     ]
    }
   ],
   "source": [
    "clf_svm = svm.SVC(C = 100, \n",
    "                  random_state = 42)\n",
    "\n",
    "clf_svm.fit(x_train, y_train)\n",
    "print_accuracy(x_train, y_train, x_test, y_test, clf_svm, 'SVM')\n",
    "# Accuracy train: 95.0\n",
    "# Accuracy test : 92.0"
   ]
  },
  {
   "cell_type": "code",
   "execution_count": 149,
   "id": "a306b6b3",
   "metadata": {},
   "outputs": [
    {
     "name": "stdout",
     "output_type": "stream",
     "text": [
      "Model DNN\n",
      "Accuracy train: 96.0\n",
      "Accuracy test : 82.0\n"
     ]
    }
   ],
   "source": [
    "n_classes = len(np.unique(y_train))\n",
    "n_features = x_train.shape[1]\n",
    "dropout = 0.15\n",
    "nodes = 100\n",
    "epochs = 200\n",
    "learning_rate = 0.001\n",
    "sequential_list = [InputLayer(n_features),\n",
    "                       Dense(nodes, activation=activation, kernel_initializer=tf.keras.initializers.HeNormal()),\n",
    "                       Dropout(dropout),\n",
    "                       Dense(nodes, activation=activation, kernel_initializer=tf.keras.initializers.HeNormal()),\n",
    "                       Dropout(dropout),\n",
    "                       Dense(nodes, activation=activation, kernel_initializer=tf.keras.initializers.HeNormal()),\n",
    "                       Dropout(dropout),\n",
    "                       Dense(nodes, activation=activation, kernel_initializer=tf.keras.initializers.HeNormal()),\n",
    "                       Dropout(dropout),\n",
    "                       Dense(nodes, activation=activation, kernel_initializer=tf.keras.initializers.HeNormal()),\n",
    "                       Dropout(dropout),\n",
    "                       Dense(nodes, activation=activation, kernel_initializer=tf.keras.initializers.HeNormal()),\n",
    "                       Dropout(dropout),\n",
    "                       Dense(nodes, activation=activation, kernel_initializer=tf.keras.initializers.HeNormal()),\n",
    "                       Dropout(dropout),\n",
    "                       Dense(nodes, activation=activation, kernel_initializer=tf.keras.initializers.HeNormal()),\n",
    "                       Dropout(dropout),\n",
    "                       Dense(nodes, activation=activation, kernel_initializer=tf.keras.initializers.HeNormal()),\n",
    "                       Dropout(dropout),\n",
    "                       Dense(nodes, activation=activation, kernel_initializer=tf.keras.initializers.HeNormal())\n",
    "                       ]\n",
    "\n",
    "sequential_list.append(Dense(n_classes + 1, activation=\"softmax\"))\n",
    "loss = \"sparse_categorical_crossentropy\"\n",
    "clf = Sequential(sequential_list)\n",
    "clf.compile(loss=loss,\n",
    "                optimizer=tf.keras.optimizers.Adam(learning_rate=0.001),\n",
    "                metrics=['accuracy'])\n",
    "clf.fit(x_train, y_train, epochs=200, batch_size=32, verbose=0)\n",
    "print_accuracy(x_train, y_train, x_test, y_test, clf, 'DNN')"
   ]
  },
  {
   "cell_type": "code",
   "execution_count": null,
   "id": "eaa81ad6",
   "metadata": {},
   "outputs": [],
   "source": []
  },
  {
   "cell_type": "code",
   "execution_count": null,
   "id": "809afa17",
   "metadata": {},
   "outputs": [],
   "source": []
  },
  {
   "cell_type": "code",
   "execution_count": null,
   "id": "b404fbad",
   "metadata": {},
   "outputs": [],
   "source": []
  }
 ],
 "metadata": {
  "kernelspec": {
   "display_name": "Python 3 (ipykernel)",
   "language": "python",
   "name": "python3"
  },
  "language_info": {
   "codemirror_mode": {
    "name": "ipython",
    "version": 3
   },
   "file_extension": ".py",
   "mimetype": "text/x-python",
   "name": "python",
   "nbconvert_exporter": "python",
   "pygments_lexer": "ipython3",
   "version": "3.9.13"
  }
 },
 "nbformat": 4,
 "nbformat_minor": 5
}
