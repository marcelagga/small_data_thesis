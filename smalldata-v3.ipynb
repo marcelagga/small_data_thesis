{
 "cells": [
  {
   "cell_type": "code",
   "execution_count": 1,
   "id": "51be38a8",
   "metadata": {},
   "outputs": [],
   "source": [
    "from load_data import (load_adult_dataset, load_beans_dataset,\n",
    "                       load_digits_dataset, load_chess_dataset,\n",
    "                       load_diabetes_dataset, load_sensorless_dataset)\n",
    "\n",
    "from model_training import compute_all_models_results, get_df_accuracy_models\n",
    "\n",
    "from plots import bar_plot\n",
    "\n",
    "%load_ext autoreload\n",
    "%autoreload 2"
   ]
  },
  {
   "cell_type": "code",
   "execution_count": 2,
   "id": "9c4b213f",
   "metadata": {},
   "outputs": [],
   "source": [
    "df_adult = load_adult_dataset() #(32561, 38)\n",
    "df_beans = load_beans_dataset() #(13611, 17)\n",
    "df_digits = load_digits_dataset() #(1797, 65)\n",
    "df_chess = load_chess_dataset() #(3196, 37)\n",
    "df_diabetes = load_diabetes_dataset() #(1151, 20)\n",
    "df_sensorless = load_sensorless_dataset() #(58509, 49)"
   ]
  },
  {
   "cell_type": "code",
   "execution_count": null,
   "id": "4eb4e388",
   "metadata": {},
   "outputs": [
    {
     "name": "stdout",
     "output_type": "stream",
     "text": [
      "Computing adult data set results... \n",
      "----------------------------------\n",
      "Starting iterations with DNN....\n"
     ]
    }
   ],
   "source": [
    "print('Computing adult data set results... ')\n",
    "print('----------------------------------')\n",
    "\n",
    "results_adult = compute_all_models_results(df_adult)\n",
    "\n",
    "print('Computing beans data set results... ')\n",
    "print('----------------------------------')\n",
    "\n",
    "results_beans = compute_all_models_results(df_beans)\n",
    "\n",
    "print('Computing digits data set results... ')\n",
    "print('----------------------------------')\n",
    "\n",
    "results_digits = compute_all_models_results(df_digits)\n",
    "\n",
    "print('Computing chess data set results... ')\n",
    "print('----------------------------------')\n",
    "\n",
    "results_chess = compute_all_models_results(df_chess)\n",
    "\n",
    "print('Computing diabetes data set results... ')\n",
    "print('----------------------------------')\n",
    "\n",
    "results_diabetes = compute_all_models_results(df_diabetes)\n",
    "\n",
    "print('Computing sensorless data set results... ')\n",
    "print('----------------------------------')\n",
    "\n",
    "results_sensorless = compute_all_models_results(df_sensorless)\n"
   ]
  },
  {
   "cell_type": "code",
   "execution_count": null,
   "id": "cdf9d965",
   "metadata": {},
   "outputs": [],
   "source": [
    "bar_plot(results_adult)"
   ]
  },
  {
   "cell_type": "code",
   "execution_count": null,
   "id": "1bc2177f",
   "metadata": {},
   "outputs": [],
   "source": [
    "bar_plot(results_beans)"
   ]
  },
  {
   "cell_type": "code",
   "execution_count": null,
   "id": "4988ada2",
   "metadata": {},
   "outputs": [],
   "source": [
    "bar_plot(results_digits)"
   ]
  },
  {
   "cell_type": "code",
   "execution_count": null,
   "id": "02e2701e",
   "metadata": {},
   "outputs": [],
   "source": [
    "bar_plot(results_chess)"
   ]
  },
  {
   "cell_type": "code",
   "execution_count": null,
   "id": "026f7374",
   "metadata": {},
   "outputs": [],
   "source": [
    "bar_plot(results_diabetes)"
   ]
  },
  {
   "cell_type": "code",
   "execution_count": null,
   "id": "8d18b617",
   "metadata": {},
   "outputs": [],
   "source": [
    "bar_plot(results_sensorless)"
   ]
  },
  {
   "cell_type": "code",
   "execution_count": null,
   "id": "b74d1c05",
   "metadata": {},
   "outputs": [],
   "source": [
    "df_results_adult = get_df_accuracy_models(results_adult)\n",
    "df_results_beans = get_df_accuracy_models(results_beans)\n",
    "df_results_digits = get_df_accuracy_models(results_digits)\n",
    "df_results_chess = get_df_accuracy_models(results_chess)\n",
    "df_results_diabetes = get_df_accuracy_models(results_diabetes)\n",
    "df_results_sensorless = get_df_accuracy_models(results_sensorless)"
   ]
  },
  {
   "cell_type": "code",
   "execution_count": null,
   "id": "9c3cd75f",
   "metadata": {},
   "outputs": [],
   "source": [
    "df_results_adult"
   ]
  },
  {
   "cell_type": "code",
   "execution_count": null,
   "id": "e205e350",
   "metadata": {},
   "outputs": [],
   "source": [
    "df_results_beans"
   ]
  },
  {
   "cell_type": "code",
   "execution_count": null,
   "id": "b3186cc6",
   "metadata": {},
   "outputs": [],
   "source": [
    "df_results_digits"
   ]
  },
  {
   "cell_type": "code",
   "execution_count": null,
   "id": "6bc4f6ab",
   "metadata": {},
   "outputs": [],
   "source": [
    "df_results_chess"
   ]
  },
  {
   "cell_type": "code",
   "execution_count": null,
   "id": "5ee6266b",
   "metadata": {},
   "outputs": [],
   "source": [
    "df_results_diabetes"
   ]
  },
  {
   "cell_type": "code",
   "execution_count": null,
   "id": "5d580ae6",
   "metadata": {},
   "outputs": [],
   "source": [
    "df_results_sensorless"
   ]
  },
  {
   "cell_type": "code",
   "execution_count": null,
   "id": "86c8b436",
   "metadata": {},
   "outputs": [],
   "source": [
    "2%2"
   ]
  },
  {
   "cell_type": "code",
   "execution_count": null,
   "id": "809c0538",
   "metadata": {},
   "outputs": [],
   "source": []
  }
 ],
 "metadata": {
  "kernelspec": {
   "display_name": "Python 3 (ipykernel)",
   "language": "python",
   "name": "python3"
  },
  "language_info": {
   "codemirror_mode": {
    "name": "ipython",
    "version": 3
   },
   "file_extension": ".py",
   "mimetype": "text/x-python",
   "name": "python",
   "nbconvert_exporter": "python",
   "pygments_lexer": "ipython3",
   "version": "3.9.13"
  }
 },
 "nbformat": 4,
 "nbformat_minor": 5
}
